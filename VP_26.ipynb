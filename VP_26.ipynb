{
  "cells": [
    {
      "cell_type": "code",
      "execution_count": null,
      "metadata": {
        "colab": {
          "base_uri": "https://localhost:8080/"
        },
        "id": "80ly8P6Oh5T6",
        "outputId": "56d0f877-e7fc-41da-8d0d-8c93ee10fe90"
      },
      "outputs": [
        {
          "output_type": "stream",
          "name": "stdout",
          "text": [
            "flag is: 4722\n",
            "The closest bus is bus 787 which arrives in 6 minuites\n"
          ]
        }
      ],
      "source": [
        "#26.1\n",
        "# Version 1. Uses brute force to derive answer. Primitive, but efficient\n",
        "\n",
        "def customs():\n",
        "  busses = '17,x,x,x,x,x,x,41,x,x,x,x,x,x,x,x,x,523,x,x,x,x,x,x,x,x,x,x,x,x,x,x,x,x,x,13,19,x,x,x,23,x,x,x,x,x,x,x,787,x,x,x,x,x,37,x,x,x,x,x,x,x,x,x,x,x,x,x,x,x,x,x,x,x,x,x,x,29'\n",
        "  #Got method to convert to list from microsoft copilot (mildly ashamed)\n",
        "  stripbus = busses.replace('x,', '').replace(',', ', ')\n",
        "  buslist = stripbus.split(', ')\n",
        "  buslist = [int(i) for i in buslist]\n",
        "  #return list of bus numbers for late use\n",
        "  return(buslist)\n",
        "\n",
        "def times():\n",
        "    #get list\n",
        "    buslist = customs()\n",
        "    #make other\n",
        "    results = []\n",
        "    resultsdic = {}\n",
        "    #earlist time can leave\n",
        "    time = 1008141\n",
        "    #loop to find numbrs\n",
        "    for i in buslist:\n",
        "        no = 0\n",
        "        factor = 0\n",
        "        while no < time:\n",
        "            factor += 1\n",
        "            no = i * factor\n",
        "        resultsdic[no] = i\n",
        "        results.append(no)\n",
        "    results.sort()\n",
        "    #loop to find closest number\n",
        "    nutime = time\n",
        "    while nutime not in results:\n",
        "      nutime += 1\n",
        "    timediff = nutime - time\n",
        "    flag = timediff*resultsdic[nutime]\n",
        "    print('flag is:', flag)\n",
        "    print(f'The closest bus is bus {resultsdic[nutime]} which arrives in {timediff} minuites')\n",
        "\n",
        "times()\n",
        "\n"
      ]
    },
    {
      "cell_type": "code",
      "source": [
        "#VP 26.2\n",
        "#Works to find first time,can be fitted to find subsequent times.\n",
        "\n",
        "bus5 = 5\n",
        "bus7 = 7\n",
        "for i in range(0,100):\n",
        "  if i%(bus5*bus7) == 0 and i != 0:\n",
        "    break\n",
        "print(f'bus 5 and 7 intersect at {i} min.')"
      ],
      "metadata": {
        "colab": {
          "base_uri": "https://localhost:8080/"
        },
        "id": "zSJFM6nH1q8g",
        "outputId": "807f085a-81c6-4783-96a2-fa7bfe95da02"
      },
      "execution_count": null,
      "outputs": [
        {
          "output_type": "stream",
          "name": "stdout",
          "text": [
            "bus 5 and 7 intersect at 35 min.\n"
          ]
        }
      ]
    },
    {
      "cell_type": "code",
      "source": [
        "#Test VP 26.3 concept\n",
        "def tester():\n",
        "  bus5 = 5\n",
        "  bus7 = 7\n",
        "  for i in range(0,100): #figure out how to have it\n",
        "    if (i*bus7-1)%bus5 == 0 and i != 0:\n",
        "      print(f'bus 5 will leave at {i*7-1} and bus 7 will leave at {i*7}')\n",
        "      break\n",
        "tester()\n",
        "\n",
        "#As explained by Prof.\n",
        "\n"
      ],
      "metadata": {
        "id": "uJ00IUm0VzAM",
        "colab": {
          "base_uri": "https://localhost:8080/"
        },
        "outputId": "537fb440-e731-411c-b1eb-11e1f570f987"
      },
      "execution_count": null,
      "outputs": [
        {
          "output_type": "stream",
          "name": "stdout",
          "text": [
            "bus 5 will leave at 20 and bus 7 will leave at 21\n"
          ]
        }
      ]
    },
    {
      "cell_type": "code",
      "source": [
        "#VP 26.3\n",
        "# Ver 3\n",
        "# It works. My God it works.\n",
        "\n",
        "def combus():\n",
        "  bus1 = 7\n",
        "  bus2 = 17\n",
        "  bus3 = 23\n",
        "\n",
        "  t = combusii(bus1,bus2,bus3)\n",
        "\n",
        "  print(f'bus {bus1} needs to leave at {t}min. for bus {bus2} to leave a minuite after, and for bus {bus3} to leave a minuite after that')\n",
        "  print(f'btw the flag is {t*bus1*bus2*bus3}')\n",
        "\n",
        "def combusii(bus1,bus2,bus3):\n",
        "  for i in range(1, bus1*bus2):\n",
        "    if i%bus1 == 0 and (i+1)%bus2 == 0:\n",
        "      bus12 = bus1*bus2\n",
        "      for j in range(1,bus12*bus3):\n",
        "        if (j+2)%bus3 == 0 and j%bus12 - i == 0:\n",
        "          return j\n",
        "\n",
        "\n",
        "combus()"
      ],
      "metadata": {
        "colab": {
          "base_uri": "https://localhost:8080/"
        },
        "id": "i4DZlzKiR1Ab",
        "outputId": "e9a59ba5-6098-41b4-f2d4-53e7bc568de3"
      },
      "execution_count": null,
      "outputs": [
        {
          "output_type": "stream",
          "name": "stdout",
          "text": [
            "bus 7 needs to leave at 1631min. for bus 17 to leave a minuite after, and for bus 23 to leave a minuite after that\n",
            "btw the flag is 4464047\n"
          ]
        }
      ]
    },
    {
      "cell_type": "code",
      "source": [
        "#VP 26.4\n",
        "\n",
        "#This code was written to solve the question: Use this input data:\n",
        "#17,x,x,x,x,x,x,41,x,x,x,x,x,x,x,x,x,523,x,x,x,x,x,x,x,x,x,x,x,x,x,x,x,x,x,13,19,x,x,x,23,x,x,x,x,x,x,x,787,x,x,x,x,x,37,x,x,x,x,x,x,x,x,x,x,x,x,x,x,x,x,x,x,x,x,x,x,29\n",
        "#What is the earliest timestamp such that all of the listed bus IDs depart at offsets matching their positions in the list? Hint: it is very large, larger than 100000000000000\n",
        "\n",
        "#This function takes the string given\n",
        "def customs():\n",
        "  #list of busses and the amount of time they should depart at\n",
        "  busses = '17,x,x,x,x,x,x,41,x,x,x,x,x,x,x,x,x,523,x,x,x,x,x,x,x,x,x,x,x,x,x,x,x,x,x,13,19,x,x,x,23,x,x,x,x,x,x,x,787,x,x,x,x,x,37,x,x,x,x,x,x,x,x,x,x,x,x,x,x,x,x,x,x,x,x,x,x,29'\n",
        "  #Convert to list (change x to 10 bc unused and not prime)\n",
        "  stripbus = busses.replace('x', '10').replace(',', ', ')\n",
        "  buslist = stripbus.split(', ')\n",
        "  buslist = [int(i) for i in buslist]\n",
        "\n",
        "  return buslist\n",
        "\n",
        "\n",
        "def superautobus():\n",
        "   #import list\n",
        "  bustimes = list(customs()) #list there to declare that variable returned is a list\n",
        "  buslist = list(customs())\n",
        "  #remove all 'spacers' from buslist\n",
        "  while 10 in buslist:\n",
        "    buslist.remove(10)\n",
        "\n",
        "  #create initial values\n",
        "  bus1 = buslist[0]\n",
        "  #Calculate\n",
        "  ans = siemesebusses(bus1,0,bustimes,buslist,0)\n",
        "\n",
        "  print(f'You must leave at {ans} if you want the busses to leave in specified sequence.')\n",
        "  print(f' so flag is {ans}')\n",
        "\n",
        "def siemesebusses(bus1,incep,bustimes,buslist,dex):\n",
        "  #declare varibales\n",
        "  bus2 = buslist[dex+1]\n",
        "  sep = bustimes.index(bus2) - bustimes.index(buslist[0])\n",
        "  print(sep)\n",
        "  #use incep as low range bound to speed along process.\n",
        "  for i in range(incep, bus1*bus2):\n",
        "    if i%bus1 - incep == 0 and (i+sep)%bus2 == 0:\n",
        "      bus12 = bus1*bus2\n",
        "      incep = i\n",
        "      dex = buslist.index(bus2)\n",
        "      if bus2 != 29:\n",
        "        return siemesebusses(bus12,incep,bustimes,buslist,dex)\n",
        "      elif bus2 == 37:\n",
        "        return siemesebusses(bus12,100000000000000,bustimes,buslist,dex)\n",
        "      else:\n",
        "        return incep\n",
        "\n",
        "#call\n",
        "superautobus()"
      ],
      "metadata": {
        "id": "rqjVy0fSR4f5",
        "colab": {
          "base_uri": "https://localhost:8080/",
          "height": 408
        },
        "outputId": "7ee1aa57-c402-40b8-e466-babc8987b5e7"
      },
      "execution_count": null,
      "outputs": [
        {
          "output_type": "stream",
          "name": "stdout",
          "text": [
            "7\n",
            "17\n",
            "35\n",
            "36\n",
            "40\n"
          ]
        },
        {
          "output_type": "error",
          "ename": "KeyboardInterrupt",
          "evalue": "",
          "traceback": [
            "\u001b[0;31m---------------------------------------------------------------------------\u001b[0m",
            "\u001b[0;31mKeyboardInterrupt\u001b[0m                         Traceback (most recent call last)",
            "\u001b[0;32m<ipython-input-8-6b89169f32d8>\u001b[0m in \u001b[0;36m<cell line: 54>\u001b[0;34m()\u001b[0m\n\u001b[1;32m     52\u001b[0m \u001b[0;34m\u001b[0m\u001b[0m\n\u001b[1;32m     53\u001b[0m \u001b[0;31m#call\u001b[0m\u001b[0;34m\u001b[0m\u001b[0;34m\u001b[0m\u001b[0m\n\u001b[0;32m---> 54\u001b[0;31m \u001b[0msuperautobus\u001b[0m\u001b[0;34m(\u001b[0m\u001b[0;34m)\u001b[0m\u001b[0;34m\u001b[0m\u001b[0;34m\u001b[0m\u001b[0m\n\u001b[0m",
            "\u001b[0;32m<ipython-input-8-6b89169f32d8>\u001b[0m in \u001b[0;36msuperautobus\u001b[0;34m()\u001b[0m\n\u001b[1;32m     28\u001b[0m   \u001b[0mbus1\u001b[0m \u001b[0;34m=\u001b[0m \u001b[0mbuslist\u001b[0m\u001b[0;34m[\u001b[0m\u001b[0;36m0\u001b[0m\u001b[0;34m]\u001b[0m\u001b[0;34m\u001b[0m\u001b[0;34m\u001b[0m\u001b[0m\n\u001b[1;32m     29\u001b[0m   \u001b[0;31m#Calculate\u001b[0m\u001b[0;34m\u001b[0m\u001b[0;34m\u001b[0m\u001b[0m\n\u001b[0;32m---> 30\u001b[0;31m   \u001b[0mans\u001b[0m \u001b[0;34m=\u001b[0m \u001b[0msiemesebusses\u001b[0m\u001b[0;34m(\u001b[0m\u001b[0mbus1\u001b[0m\u001b[0;34m,\u001b[0m\u001b[0;36m0\u001b[0m\u001b[0;34m,\u001b[0m\u001b[0mbustimes\u001b[0m\u001b[0;34m,\u001b[0m\u001b[0mbuslist\u001b[0m\u001b[0;34m,\u001b[0m\u001b[0;36m0\u001b[0m\u001b[0;34m)\u001b[0m\u001b[0;34m\u001b[0m\u001b[0;34m\u001b[0m\u001b[0m\n\u001b[0m\u001b[1;32m     31\u001b[0m \u001b[0;34m\u001b[0m\u001b[0m\n\u001b[1;32m     32\u001b[0m   \u001b[0mprint\u001b[0m\u001b[0;34m(\u001b[0m\u001b[0;34mf'You must leave at {ans} if you want the busses to leave in specified sequence.'\u001b[0m\u001b[0;34m)\u001b[0m\u001b[0;34m\u001b[0m\u001b[0;34m\u001b[0m\u001b[0m\n",
            "\u001b[0;32m<ipython-input-8-6b89169f32d8>\u001b[0m in \u001b[0;36msiemesebusses\u001b[0;34m(bus1, incep, bustimes, buslist, dex)\u001b[0m\n\u001b[1;32m     45\u001b[0m       \u001b[0mdex\u001b[0m \u001b[0;34m=\u001b[0m \u001b[0mbuslist\u001b[0m\u001b[0;34m.\u001b[0m\u001b[0mindex\u001b[0m\u001b[0;34m(\u001b[0m\u001b[0mbus2\u001b[0m\u001b[0;34m)\u001b[0m\u001b[0;34m\u001b[0m\u001b[0;34m\u001b[0m\u001b[0m\n\u001b[1;32m     46\u001b[0m       \u001b[0;32mif\u001b[0m \u001b[0mbus2\u001b[0m \u001b[0;34m!=\u001b[0m \u001b[0;36m29\u001b[0m\u001b[0;34m:\u001b[0m\u001b[0;34m\u001b[0m\u001b[0;34m\u001b[0m\u001b[0m\n\u001b[0;32m---> 47\u001b[0;31m         \u001b[0;32mreturn\u001b[0m \u001b[0msiemesebusses\u001b[0m\u001b[0;34m(\u001b[0m\u001b[0mbus12\u001b[0m\u001b[0;34m,\u001b[0m\u001b[0mincep\u001b[0m\u001b[0;34m,\u001b[0m\u001b[0mbustimes\u001b[0m\u001b[0;34m,\u001b[0m\u001b[0mbuslist\u001b[0m\u001b[0;34m,\u001b[0m\u001b[0mdex\u001b[0m\u001b[0;34m)\u001b[0m\u001b[0;34m\u001b[0m\u001b[0;34m\u001b[0m\u001b[0m\n\u001b[0m\u001b[1;32m     48\u001b[0m       \u001b[0;32melif\u001b[0m \u001b[0mbus2\u001b[0m \u001b[0;34m==\u001b[0m \u001b[0;36m37\u001b[0m\u001b[0;34m:\u001b[0m\u001b[0;34m\u001b[0m\u001b[0;34m\u001b[0m\u001b[0m\n\u001b[1;32m     49\u001b[0m         \u001b[0;32mreturn\u001b[0m \u001b[0msiemesebusses\u001b[0m\u001b[0;34m(\u001b[0m\u001b[0mbus12\u001b[0m\u001b[0;34m,\u001b[0m\u001b[0;36m100000000000000\u001b[0m\u001b[0;34m,\u001b[0m\u001b[0mbustimes\u001b[0m\u001b[0;34m,\u001b[0m\u001b[0mbuslist\u001b[0m\u001b[0;34m,\u001b[0m\u001b[0mdex\u001b[0m\u001b[0;34m)\u001b[0m\u001b[0;34m\u001b[0m\u001b[0;34m\u001b[0m\u001b[0m\n",
            "\u001b[0;32m<ipython-input-8-6b89169f32d8>\u001b[0m in \u001b[0;36msiemesebusses\u001b[0;34m(bus1, incep, bustimes, buslist, dex)\u001b[0m\n\u001b[1;32m     45\u001b[0m       \u001b[0mdex\u001b[0m \u001b[0;34m=\u001b[0m \u001b[0mbuslist\u001b[0m\u001b[0;34m.\u001b[0m\u001b[0mindex\u001b[0m\u001b[0;34m(\u001b[0m\u001b[0mbus2\u001b[0m\u001b[0;34m)\u001b[0m\u001b[0;34m\u001b[0m\u001b[0;34m\u001b[0m\u001b[0m\n\u001b[1;32m     46\u001b[0m       \u001b[0;32mif\u001b[0m \u001b[0mbus2\u001b[0m \u001b[0;34m!=\u001b[0m \u001b[0;36m29\u001b[0m\u001b[0;34m:\u001b[0m\u001b[0;34m\u001b[0m\u001b[0;34m\u001b[0m\u001b[0m\n\u001b[0;32m---> 47\u001b[0;31m         \u001b[0;32mreturn\u001b[0m \u001b[0msiemesebusses\u001b[0m\u001b[0;34m(\u001b[0m\u001b[0mbus12\u001b[0m\u001b[0;34m,\u001b[0m\u001b[0mincep\u001b[0m\u001b[0;34m,\u001b[0m\u001b[0mbustimes\u001b[0m\u001b[0;34m,\u001b[0m\u001b[0mbuslist\u001b[0m\u001b[0;34m,\u001b[0m\u001b[0mdex\u001b[0m\u001b[0;34m)\u001b[0m\u001b[0;34m\u001b[0m\u001b[0;34m\u001b[0m\u001b[0m\n\u001b[0m\u001b[1;32m     48\u001b[0m       \u001b[0;32melif\u001b[0m \u001b[0mbus2\u001b[0m \u001b[0;34m==\u001b[0m \u001b[0;36m37\u001b[0m\u001b[0;34m:\u001b[0m\u001b[0;34m\u001b[0m\u001b[0;34m\u001b[0m\u001b[0m\n\u001b[1;32m     49\u001b[0m         \u001b[0;32mreturn\u001b[0m \u001b[0msiemesebusses\u001b[0m\u001b[0;34m(\u001b[0m\u001b[0mbus12\u001b[0m\u001b[0;34m,\u001b[0m\u001b[0;36m100000000000000\u001b[0m\u001b[0;34m,\u001b[0m\u001b[0mbustimes\u001b[0m\u001b[0;34m,\u001b[0m\u001b[0mbuslist\u001b[0m\u001b[0;34m,\u001b[0m\u001b[0mdex\u001b[0m\u001b[0;34m)\u001b[0m\u001b[0;34m\u001b[0m\u001b[0;34m\u001b[0m\u001b[0m\n",
            "\u001b[0;32m<ipython-input-8-6b89169f32d8>\u001b[0m in \u001b[0;36msiemesebusses\u001b[0;34m(bus1, incep, bustimes, buslist, dex)\u001b[0m\n\u001b[1;32m     45\u001b[0m       \u001b[0mdex\u001b[0m \u001b[0;34m=\u001b[0m \u001b[0mbuslist\u001b[0m\u001b[0;34m.\u001b[0m\u001b[0mindex\u001b[0m\u001b[0;34m(\u001b[0m\u001b[0mbus2\u001b[0m\u001b[0;34m)\u001b[0m\u001b[0;34m\u001b[0m\u001b[0;34m\u001b[0m\u001b[0m\n\u001b[1;32m     46\u001b[0m       \u001b[0;32mif\u001b[0m \u001b[0mbus2\u001b[0m \u001b[0;34m!=\u001b[0m \u001b[0;36m29\u001b[0m\u001b[0;34m:\u001b[0m\u001b[0;34m\u001b[0m\u001b[0;34m\u001b[0m\u001b[0m\n\u001b[0;32m---> 47\u001b[0;31m         \u001b[0;32mreturn\u001b[0m \u001b[0msiemesebusses\u001b[0m\u001b[0;34m(\u001b[0m\u001b[0mbus12\u001b[0m\u001b[0;34m,\u001b[0m\u001b[0mincep\u001b[0m\u001b[0;34m,\u001b[0m\u001b[0mbustimes\u001b[0m\u001b[0;34m,\u001b[0m\u001b[0mbuslist\u001b[0m\u001b[0;34m,\u001b[0m\u001b[0mdex\u001b[0m\u001b[0;34m)\u001b[0m\u001b[0;34m\u001b[0m\u001b[0;34m\u001b[0m\u001b[0m\n\u001b[0m\u001b[1;32m     48\u001b[0m       \u001b[0;32melif\u001b[0m \u001b[0mbus2\u001b[0m \u001b[0;34m==\u001b[0m \u001b[0;36m37\u001b[0m\u001b[0;34m:\u001b[0m\u001b[0;34m\u001b[0m\u001b[0;34m\u001b[0m\u001b[0m\n\u001b[1;32m     49\u001b[0m         \u001b[0;32mreturn\u001b[0m \u001b[0msiemesebusses\u001b[0m\u001b[0;34m(\u001b[0m\u001b[0mbus12\u001b[0m\u001b[0;34m,\u001b[0m\u001b[0;36m100000000000000\u001b[0m\u001b[0;34m,\u001b[0m\u001b[0mbustimes\u001b[0m\u001b[0;34m,\u001b[0m\u001b[0mbuslist\u001b[0m\u001b[0;34m,\u001b[0m\u001b[0mdex\u001b[0m\u001b[0;34m)\u001b[0m\u001b[0;34m\u001b[0m\u001b[0;34m\u001b[0m\u001b[0m\n",
            "\u001b[0;32m<ipython-input-8-6b89169f32d8>\u001b[0m in \u001b[0;36msiemesebusses\u001b[0;34m(bus1, incep, bustimes, buslist, dex)\u001b[0m\n\u001b[1;32m     45\u001b[0m       \u001b[0mdex\u001b[0m \u001b[0;34m=\u001b[0m \u001b[0mbuslist\u001b[0m\u001b[0;34m.\u001b[0m\u001b[0mindex\u001b[0m\u001b[0;34m(\u001b[0m\u001b[0mbus2\u001b[0m\u001b[0;34m)\u001b[0m\u001b[0;34m\u001b[0m\u001b[0;34m\u001b[0m\u001b[0m\n\u001b[1;32m     46\u001b[0m       \u001b[0;32mif\u001b[0m \u001b[0mbus2\u001b[0m \u001b[0;34m!=\u001b[0m \u001b[0;36m29\u001b[0m\u001b[0;34m:\u001b[0m\u001b[0;34m\u001b[0m\u001b[0;34m\u001b[0m\u001b[0m\n\u001b[0;32m---> 47\u001b[0;31m         \u001b[0;32mreturn\u001b[0m \u001b[0msiemesebusses\u001b[0m\u001b[0;34m(\u001b[0m\u001b[0mbus12\u001b[0m\u001b[0;34m,\u001b[0m\u001b[0mincep\u001b[0m\u001b[0;34m,\u001b[0m\u001b[0mbustimes\u001b[0m\u001b[0;34m,\u001b[0m\u001b[0mbuslist\u001b[0m\u001b[0;34m,\u001b[0m\u001b[0mdex\u001b[0m\u001b[0;34m)\u001b[0m\u001b[0;34m\u001b[0m\u001b[0;34m\u001b[0m\u001b[0m\n\u001b[0m\u001b[1;32m     48\u001b[0m       \u001b[0;32melif\u001b[0m \u001b[0mbus2\u001b[0m \u001b[0;34m==\u001b[0m \u001b[0;36m37\u001b[0m\u001b[0;34m:\u001b[0m\u001b[0;34m\u001b[0m\u001b[0;34m\u001b[0m\u001b[0m\n\u001b[1;32m     49\u001b[0m         \u001b[0;32mreturn\u001b[0m \u001b[0msiemesebusses\u001b[0m\u001b[0;34m(\u001b[0m\u001b[0mbus12\u001b[0m\u001b[0;34m,\u001b[0m\u001b[0;36m100000000000000\u001b[0m\u001b[0;34m,\u001b[0m\u001b[0mbustimes\u001b[0m\u001b[0;34m,\u001b[0m\u001b[0mbuslist\u001b[0m\u001b[0;34m,\u001b[0m\u001b[0mdex\u001b[0m\u001b[0;34m)\u001b[0m\u001b[0;34m\u001b[0m\u001b[0;34m\u001b[0m\u001b[0m\n",
            "\u001b[0;32m<ipython-input-8-6b89169f32d8>\u001b[0m in \u001b[0;36msiemesebusses\u001b[0;34m(bus1, incep, bustimes, buslist, dex)\u001b[0m\n\u001b[1;32m     40\u001b[0m   \u001b[0;31m#use incep as low range bound to speed along process.\u001b[0m\u001b[0;34m\u001b[0m\u001b[0;34m\u001b[0m\u001b[0m\n\u001b[1;32m     41\u001b[0m   \u001b[0;32mfor\u001b[0m \u001b[0mi\u001b[0m \u001b[0;32min\u001b[0m \u001b[0mrange\u001b[0m\u001b[0;34m(\u001b[0m\u001b[0mincep\u001b[0m\u001b[0;34m,\u001b[0m \u001b[0mbus1\u001b[0m\u001b[0;34m*\u001b[0m\u001b[0mbus2\u001b[0m\u001b[0;34m)\u001b[0m\u001b[0;34m:\u001b[0m\u001b[0;34m\u001b[0m\u001b[0;34m\u001b[0m\u001b[0m\n\u001b[0;32m---> 42\u001b[0;31m     \u001b[0;32mif\u001b[0m \u001b[0mi\u001b[0m\u001b[0;34m%\u001b[0m\u001b[0mbus1\u001b[0m \u001b[0;34m-\u001b[0m \u001b[0mincep\u001b[0m \u001b[0;34m==\u001b[0m \u001b[0;36m0\u001b[0m \u001b[0;32mand\u001b[0m \u001b[0;34m(\u001b[0m\u001b[0mi\u001b[0m\u001b[0;34m+\u001b[0m\u001b[0msep\u001b[0m\u001b[0;34m)\u001b[0m\u001b[0;34m%\u001b[0m\u001b[0mbus2\u001b[0m \u001b[0;34m==\u001b[0m \u001b[0;36m0\u001b[0m\u001b[0;34m:\u001b[0m\u001b[0;34m\u001b[0m\u001b[0;34m\u001b[0m\u001b[0m\n\u001b[0m\u001b[1;32m     43\u001b[0m       \u001b[0mbus12\u001b[0m \u001b[0;34m=\u001b[0m \u001b[0mbus1\u001b[0m\u001b[0;34m*\u001b[0m\u001b[0mbus2\u001b[0m\u001b[0;34m\u001b[0m\u001b[0;34m\u001b[0m\u001b[0m\n\u001b[1;32m     44\u001b[0m       \u001b[0mincep\u001b[0m \u001b[0;34m=\u001b[0m \u001b[0mi\u001b[0m\u001b[0;34m\u001b[0m\u001b[0;34m\u001b[0m\u001b[0m\n",
            "\u001b[0;31mKeyboardInterrupt\u001b[0m: "
          ]
        }
      ]
    },
    {
      "cell_type": "code",
      "source": [
        "#try to do it via recursion\n",
        "\n",
        "Ex:\n",
        "#3! = 1*2*3\n",
        "#4! = 4*3!"
      ],
      "metadata": {
        "id": "Jqo29hNI63R9"
      },
      "execution_count": null,
      "outputs": []
    },
    {
      "cell_type": "code",
      "source": [
        "#test\n",
        "\n",
        "#test recursive method for 26.4 using values from 26.3\n",
        "\n",
        "#This function takes the string given\n",
        "def customs():\n",
        "  buslist = [7,17,23]\n",
        "\n",
        "  return buslist\n",
        "\n",
        "\n",
        "def superautobus():\n",
        "   #import list\n",
        "  bustimes = list(customs()) #list there to declare that variable returned is a list\n",
        "  buslist = list(customs())\n",
        "\n",
        "  #create initial values\n",
        "  bus1 = buslist[0]\n",
        "  #Calculate\n",
        "  ans = siemesebusses(bus1,0,0,bustimes,buslist,0)\n",
        "\n",
        "  print(f'You must leave at {ans} if you want the busses to leave in specified sequence.')\n",
        "  print(f' so flag is {ans}')\n",
        "\n",
        "def siemesebusses(bus1,sep,incep,bustimes,buslist,dex):\n",
        "  #declare varibales\n",
        "  bus2 = buslist[dex+1]\n",
        "  sep = bustimes.index(bus2) - bustimes.index(buslist[0])\n",
        "  print(sep)\n",
        "  for i in range(1, bus1*bus2):\n",
        "    if i%bus1 - incep == 0 and (i+sep)%bus2 == 0:\n",
        "      bus12 = bus1*bus2\n",
        "      incep = i\n",
        "      dex = buslist.index(bus2)\n",
        "      if bus2 != 23:\n",
        "        return siemesebusses(bus12,sep,incep,bustimes,buslist,dex)\n",
        "      else:\n",
        "        return incep\n",
        "\n",
        "#call\n",
        "superautobus()"
      ],
      "metadata": {
        "colab": {
          "base_uri": "https://localhost:8080/"
        },
        "id": "TS0ruNF9gphU",
        "outputId": "25a7c7aa-6df6-411d-a64b-56d58e09ad79"
      },
      "execution_count": null,
      "outputs": [
        {
          "output_type": "stream",
          "name": "stdout",
          "text": [
            "1\n",
            "2\n",
            "You must leave at 1631 if you want the busses to leave in specified sequence.\n",
            " so flag is 1631\n"
          ]
        }
      ]
    },
    {
      "cell_type": "code",
      "source": [
        "#test2\n",
        "#try using a binary search method for VP 26.4\n",
        "\n",
        "import random\n",
        "\n",
        "#This function takes the string given\n",
        "def customs():\n",
        "  #list of busses and the amount of time they should depart at\n",
        "  busses = '17,x,x,x,x,x,x,41,x,x,x,x,x,x,x,x,x,523,x,x,x,x,x,x,x,x,x,x,x,x,x,x,x,x,x,13,19,x,x,x,23,x,x,x,x,x,x,x,787,x,x,x,x,x,37,x,x,x,x,x,x,x,x,x,x,x,x,x,x,x,x,x,x,x,x,x,x,29'\n",
        "  #Convert to list (change x to 10 bc unused and not prime)\n",
        "  stripbus = busses.replace('x', '10').replace(',', ', ')\n",
        "  buslist = stripbus.split(', ')\n",
        "  buslist = [int(i) for i in buslist]\n",
        "\n",
        "  return buslist\n",
        "\n",
        "\n",
        "def superautobus():\n",
        "   #import list\n",
        "  bustimes = list(customs()) #list there to declare that variable returned is a list\n",
        "  buslist = list(customs())\n",
        "  #remove all 'spacers' from buslist\n",
        "  while 10 in buslist:\n",
        "    buslist.remove(10)\n",
        "\n",
        "  #create initial values\n",
        "  bus1 = buslist[0]\n",
        "  #Calculate\n",
        "  ans = siemesebusses(bus1,0,bustimes,buslist,0)\n",
        "\n",
        "  print(f'You must leave at {ans} if you want the busses to leave in specified sequence.')\n",
        "  print(f' so flag is {ans}')\n",
        "  #add to idle when doing this at home. You'll want to forget this program methinks.\n",
        "  with open('flag.txt', 'w') as file:\n",
        "  # Write some text to the file\n",
        "    file.write(ans)\n",
        "\n",
        "def siemesebusses(bus1,incep,bustimes,buslist,dex):\n",
        "  #declare varibales\n",
        "  loop = 1\n",
        "  bus2 = buslist[dex+1]\n",
        "  sep = bustimes.index(bus2) - bustimes.index(buslist[0])\n",
        "  print(sep)\n",
        "  def siemesebusses(bus1, incep, bustimes, buslist, dex):\n",
        "    bus2 = buslist[dex + 1]\n",
        "    sep = bustimes.index(bus2) - bustimes.index(buslist[0])\n",
        "\n",
        "    for i in range(incep, bus1 * bus2, bus1):\n",
        "        if (i + sep) % bus2 == 0:\n",
        "            bus12 = bus1 * bus2\n",
        "            incep = i\n",
        "            dex = buslist.index(bus2)\n",
        "            if bus2 != 29:\n",
        "                return siemesebusses(bus12, incep, bustimes, buslist, dex)\n",
        "\n",
        "\n",
        "\n",
        "#call\n",
        "superautobus()"
      ],
      "metadata": {
        "id": "o400bYkn3km-"
      },
      "execution_count": null,
      "outputs": []
    },
    {
      "cell_type": "code",
      "source": [
        "#Asked Copilot to optimize my code. Somehow this works in a fraction of a second. I must study this\n",
        "#After diagnosing, it seems the point of failure was in the if statement setup. It only needs to clear the second condition I set if you only go through numbers in range that are already multiples of bus1.\n",
        "\n",
        "def customs():\n",
        "    busses = '17,x,x,x,x,x,x,41,x,x,x,x,x,x,x,x,x,523,x,x,x,x,x,x,x,x,x,x,x,x,x,x,x,x,x,13,19,x,x,x,23,x,x,x,x,x,x,x,787,x,x,x,x,x,37,x,x,x,x,x,x,x,x,x,x,x,x,x,x,x,x,x,x,x,x,x,x,29'\n",
        "    buslist = [int(bus) if bus != 'x' else None for bus in busses.split(',')]\n",
        "    return buslist\n",
        "\n",
        "def superautobus():\n",
        "    bustimes = customs()\n",
        "    buslist = [bus for bus in bustimes if bus is not None]\n",
        "\n",
        "    bus1 = buslist[0]\n",
        "    ans = siemesebusses(bus1, 0, bustimes, buslist, 0)\n",
        "\n",
        "    print(f'You must leave at {ans} if you want the busses to leave in specified sequence.')\n",
        "    print(f' so flag is {ans}')\n",
        "\n",
        "def siemesebusses(bus1, incep, bustimes, buslist, dex):\n",
        "    bus2 = buslist[dex + 1]\n",
        "    sep = bustimes.index(bus2) - bustimes.index(buslist[0])\n",
        "\n",
        "    for i in range(incep, bus1 * bus2, bus1):\n",
        "        if (i + sep) % bus2 == 0:\n",
        "            bus12 = bus1 * bus2\n",
        "            incep = i\n",
        "            dex = buslist.index(bus2)\n",
        "            if bus2 != 29:\n",
        "                return siemesebusses(bus12, incep, bustimes, buslist, dex)\n",
        "            elif bus2 == 37:\n",
        "                return siemesebusses(bus12, 100000000000000, bustimes, buslist, dex)\n",
        "            else:\n",
        "                return incep\n",
        "\n",
        "superautobus()"
      ],
      "metadata": {
        "colab": {
          "base_uri": "https://localhost:8080/"
        },
        "id": "xT1JpIvP-E_w",
        "outputId": "ecb12745-da53-4c8f-918a-ee42697ac8f1"
      },
      "execution_count": null,
      "outputs": [
        {
          "output_type": "stream",
          "name": "stdout",
          "text": [
            "You must leave at 825305207525452 if you want the busses to leave in specified sequence.\n",
            " so flag is 825305207525452\n"
          ]
        }
      ]
    }
  ],
  "metadata": {
    "colab": {
      "provenance": [],
      "authorship_tag": "ABX9TyPEQJVr0PYsZrNhef8Bf+rX"
    },
    "kernelspec": {
      "display_name": "Python 3",
      "name": "python3"
    },
    "language_info": {
      "name": "python"
    }
  },
  "nbformat": 4,
  "nbformat_minor": 0
}